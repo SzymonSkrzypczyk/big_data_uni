{
 "cells": [
  {
   "cell_type": "markdown",
   "metadata": {
    "application/vnd.databricks.v1+cell": {
     "cellMetadata": {},
     "inputWidgets": {},
     "nuid": "7080a470-8c29-4102-8090-a6cfc2a06f08",
     "showTitle": false,
     "tableResultSettingsMap": {},
     "title": ""
    }
   },
   "source": [
    "Użyj każdą z tych funkcji \n",
    "* `unix_timestamp()` \n",
    "* `date_format()`\n",
    "* `to_unix_timestamp()`\n",
    "* `from_unixtime()`\n",
    "* `to_date()` \n",
    "* `to_timestamp()` \n",
    "* `from_utc_timestamp()` \n",
    "* `to_utc_timestamp()`"
   ]
  },
  {
   "cell_type": "code",
   "execution_count": 0,
   "metadata": {
    "application/vnd.databricks.v1+cell": {
     "cellMetadata": {
      "byteLimit": 2048000,
      "rowLimit": 10000
     },
     "inputWidgets": {},
     "nuid": "ad6642f9-4330-46d3-b5a1-79e513017b69",
     "showTitle": false,
     "tableResultSettingsMap": {},
     "title": ""
    }
   },
   "outputs": [
    {
     "output_type": "display_data",
     "data": {
      "text/html": [
       "<style scoped>\n",
       "  .table-result-container {\n",
       "    max-height: 300px;\n",
       "    overflow: auto;\n",
       "  }\n",
       "  table, th, td {\n",
       "    border: 1px solid black;\n",
       "    border-collapse: collapse;\n",
       "  }\n",
       "  th, td {\n",
       "    padding: 5px;\n",
       "  }\n",
       "  th {\n",
       "    text-align: left;\n",
       "  }\n",
       "</style><div class='table-result-container'><table class='table-result'><thead style='background-color: white'><tr><th>timestamp</th><th>unix</th><th>Date</th><th>unix_timestamp</th><th>date_format</th><th>to_unix_timestamp</th><th>from_unixtime</th><th>to_date</th><th>to_timestamp</th><th>from_utc_timestamp</th><th>to_utc_timestamp</th></tr></thead><tbody><tr><td>2015-03-22T14:13:34</td><td>1646641525847</td><td>May, 2021</td><td>1741794073</td><td>22/03/2015</td><td>1741737600</td><td>2025-03-12 15:41:13</td><td>2015-03-22</td><td>2025-03-12T15:41:13Z</td><td>2015-03-22T14:13:34Z</td><td>2025-03-12T15:41:13Z</td></tr><tr><td>2015-03-22T15:03:18</td><td>1646641557555</td><td>Mar, 2021</td><td>1741794073</td><td>22/03/2015</td><td>1741737600</td><td>2025-03-12 15:41:13</td><td>2015-03-22</td><td>2025-03-12T15:41:13Z</td><td>2015-03-22T15:03:18Z</td><td>2025-03-12T15:41:13Z</td></tr><tr><td>2015-03-22T14:38:39</td><td>1646641578622</td><td>Jan, 2021</td><td>1741794073</td><td>22/03/2015</td><td>1741737600</td><td>2025-03-12 15:41:13</td><td>2015-03-22</td><td>2025-03-12T15:41:13Z</td><td>2015-03-22T14:38:39Z</td><td>2025-03-12T15:41:13Z</td></tr></tbody></table></div>"
      ]
     },
     "metadata": {
      "application/vnd.databricks.v1+output": {
       "addedWidgets": {},
       "aggData": [],
       "aggError": "",
       "aggOverflow": false,
       "aggSchema": [],
       "aggSeriesLimitReached": false,
       "aggType": "",
       "arguments": {},
       "columnCustomDisplayInfos": {},
       "data": [
        [
         "2015-03-22T14:13:34",
         1646641525847,
         "May, 2021",
         1741794073,
         "22/03/2015",
         1741737600,
         "2025-03-12 15:41:13",
         "2015-03-22",
         "2025-03-12T15:41:13Z",
         "2015-03-22T14:13:34Z",
         "2025-03-12T15:41:13Z"
        ],
        [
         "2015-03-22T15:03:18",
         1646641557555,
         "Mar, 2021",
         1741794073,
         "22/03/2015",
         1741737600,
         "2025-03-12 15:41:13",
         "2015-03-22",
         "2025-03-12T15:41:13Z",
         "2015-03-22T15:03:18Z",
         "2025-03-12T15:41:13Z"
        ],
        [
         "2015-03-22T14:38:39",
         1646641578622,
         "Jan, 2021",
         1741794073,
         "22/03/2015",
         1741737600,
         "2025-03-12 15:41:13",
         "2015-03-22",
         "2025-03-12T15:41:13Z",
         "2015-03-22T14:38:39Z",
         "2025-03-12T15:41:13Z"
        ]
       ],
       "datasetInfos": [],
       "dbfsResultPath": null,
       "isJsonSchema": true,
       "metadata": {},
       "overflow": false,
       "plotOptions": {
        "customPlotOptions": {},
        "displayType": "table",
        "pivotAggregation": null,
        "pivotColumns": null,
        "xColumns": null,
        "yColumns": null
       },
       "removedWidgets": [],
       "schema": [
        {
         "metadata": "{}",
         "name": "timestamp",
         "type": "\"string\""
        },
        {
         "metadata": "{}",
         "name": "unix",
         "type": "\"long\""
        },
        {
         "metadata": "{}",
         "name": "Date",
         "type": "\"string\""
        },
        {
         "metadata": "{}",
         "name": "unix_timestamp",
         "type": "\"long\""
        },
        {
         "metadata": "{}",
         "name": "date_format",
         "type": "\"string\""
        },
        {
         "metadata": "{}",
         "name": "to_unix_timestamp",
         "type": "\"long\""
        },
        {
         "metadata": "{}",
         "name": "from_unixtime",
         "type": "\"string\""
        },
        {
         "metadata": "{}",
         "name": "to_date",
         "type": "\"date\""
        },
        {
         "metadata": "{}",
         "name": "to_timestamp",
         "type": "\"timestamp\""
        },
        {
         "metadata": "{}",
         "name": "from_utc_timestamp",
         "type": "\"timestamp\""
        },
        {
         "metadata": "{}",
         "name": "to_utc_timestamp",
         "type": "\"timestamp\""
        }
       ],
       "type": "table"
      }
     },
     "output_type": "display_data"
    }
   ],
   "source": [
    "from pyspark.sql.functions import *\n",
    "\n",
    "data = [(\"2015-03-22T14:13:34\", 1646641525847, \"May, 2021\"),\n",
    "        (\"2015-03-22T15:03:18\", 1646641557555, \"Mar, 2021\"),\n",
    "        (\"2015-03-22T14:38:39\", 1646641578622, \"Jan, 2021\")]\n",
    "columns = [\"timestamp\", \"unix\", \"Date\"]\n",
    "\n",
    "df = spark.createDataFrame(data, columns)\n",
    "df = df. \\\n",
    "    withColumn(\"unix_timestamp\", unix_timestamp()). \\\n",
    "    withColumn(\"date_format\", date_format(\"timestamp\", \"dd/MM/yyyy\")). \\\n",
    "    withColumn(\"to_unix_timestamp\", to_unix_timestamp(\"current_date\", lit(\"yyyy-MM-dd\"))). \\\n",
    "    withColumn(\"from_unixtime\", from_unixtime(\"unix_timestamp\")). \\\n",
    "    withColumn(\"to_date\", to_date(\"timestamp\")). \\\n",
    "    withColumn(\"to_timestamp\", to_timestamp(\"from_unixtime\")). \\\n",
    "    withColumn(\"from_utc_timestamp\", from_utc_timestamp(\"timestamp\", tz=\"UTC\")). \\\n",
    "    withColumn(\"to_utc_timestamp\", to_utc_timestamp(\"from_unixtime\", tz=\"UTC\"))\n",
    "\n",
    "display(df)\n"
   ]
  },
  {
   "cell_type": "code",
   "execution_count": 0,
   "metadata": {
    "application/vnd.databricks.v1+cell": {
     "cellMetadata": {
      "byteLimit": 2048000,
      "rowLimit": 10000
     },
     "inputWidgets": {},
     "nuid": "bfc884ee-94a0-456b-9212-48b7bcaac341",
     "showTitle": false,
     "tableResultSettingsMap": {},
     "title": ""
    }
   },
   "outputs": [
    {
     "output_type": "stream",
     "name": "stdout",
     "output_type": "stream",
     "text": [
      "root\n |-- timestamp: string (nullable = true)\n |-- unix: long (nullable = true)\n |-- Date: string (nullable = true)\n |-- unix_timestamp: long (nullable = true)\n |-- date_format: string (nullable = true)\n |-- to_unix_timestamp: long (nullable = true)\n |-- from_unixtime: string (nullable = true)\n |-- to_date: date (nullable = true)\n |-- to_timestamp: timestamp (nullable = true)\n |-- from_utc_timestamp: timestamp (nullable = true)\n |-- to_utc_timestamp: timestamp (nullable = true)\n\n"
     ]
    }
   ],
   "source": [
    "df.printSchema()"
   ]
  },
  {
   "cell_type": "markdown",
   "metadata": {
    "application/vnd.databricks.v1+cell": {
     "cellMetadata": {},
     "inputWidgets": {},
     "nuid": "5b0f5676-af9a-4c46-9e90-b4270f30f222",
     "showTitle": false,
     "tableResultSettingsMap": {},
     "title": ""
    }
   },
   "source": [
    "## unix_timestamp(..) & cast(..)"
   ]
  },
  {
   "cell_type": "markdown",
   "metadata": {
    "application/vnd.databricks.v1+cell": {
     "cellMetadata": {},
     "inputWidgets": {},
     "nuid": "da2c85c6-dc7c-4519-a586-411a8fc3a0ad",
     "showTitle": false,
     "tableResultSettingsMap": {},
     "title": ""
    }
   },
   "source": [
    "Konwersja **string** to a **timestamp**.\n",
    "\n",
    "Lokalizacja funkcji \n",
    "* `pyspark.sql.functions` in the case of Python\n",
    "* `org.apache.spark.sql.functions` in the case of Scala & Java"
   ]
  },
  {
   "cell_type": "markdown",
   "metadata": {
    "application/vnd.databricks.v1+cell": {
     "cellMetadata": {},
     "inputWidgets": {},
     "nuid": "29619a12-2790-4d54-bd50-abf02531a3c7",
     "showTitle": false,
     "tableResultSettingsMap": {},
     "title": ""
    }
   },
   "source": [
    "## 1. Zmiana formatu wartości timestamp yyyy-MM-dd'T'HH:mm:ss \n",
    "`unix_timestamp(..)`\n",
    "\n",
    "Dokumentacja API `unix_timestamp(..)`:\n",
    "> Convert time string with given pattern (see <a href=\"http://docs.oracle.com/javase/tutorial/i18n/format/simpleDateFormat.html\" target=\"_blank\">SimpleDateFormat</a>) to Unix time stamp (in seconds), return null if fail.\n",
    "\n",
    "`SimpleDataFormat` is part of the Java API and provides support for parsing and formatting date and time values."
   ]
  },
  {
   "cell_type": "code",
   "execution_count": 0,
   "metadata": {
    "application/vnd.databricks.v1+cell": {
     "cellMetadata": {
      "byteLimit": 2048000,
      "rowLimit": 10000
     },
     "inputWidgets": {},
     "nuid": "1a88bca0-2ce7-4a7b-b332-d53e84fe79ae",
     "showTitle": false,
     "tableResultSettingsMap": {},
     "title": ""
    }
   },
   "outputs": [
    {
     "output_type": "display_data",
     "data": {
      "text/html": [
       "<style scoped>\n",
       "  .table-result-container {\n",
       "    max-height: 300px;\n",
       "    overflow: auto;\n",
       "  }\n",
       "  table, th, td {\n",
       "    border: 1px solid black;\n",
       "    border-collapse: collapse;\n",
       "  }\n",
       "  th, td {\n",
       "    padding: 5px;\n",
       "  }\n",
       "  th {\n",
       "    text-align: left;\n",
       "  }\n",
       "</style><div class='table-result-container'><table class='table-result'><thead style='background-color: white'><tr><th>timestamp</th><th>unix</th><th>Date</th><th>unix_timestamp</th><th>date_format</th><th>to_unix_timestamp</th><th>from_unixtime</th><th>to_date</th><th>to_timestamp</th><th>from_utc_timestamp</th><th>to_utc_timestamp</th></tr></thead><tbody><tr><td>1741737600</td><td>1646641525847</td><td>May, 2021</td><td>1741794092</td><td>22/03/2015</td><td>1741737600</td><td>2025-03-12 15:41:32</td><td>2015-03-22</td><td>2025-03-12T15:41:32Z</td><td>2015-03-22T14:13:34Z</td><td>2025-03-12T15:41:32Z</td></tr><tr><td>1741737600</td><td>1646641557555</td><td>Mar, 2021</td><td>1741794092</td><td>22/03/2015</td><td>1741737600</td><td>2025-03-12 15:41:32</td><td>2015-03-22</td><td>2025-03-12T15:41:32Z</td><td>2015-03-22T15:03:18Z</td><td>2025-03-12T15:41:32Z</td></tr><tr><td>1741737600</td><td>1646641578622</td><td>Jan, 2021</td><td>1741794092</td><td>22/03/2015</td><td>1741737600</td><td>2025-03-12 15:41:32</td><td>2015-03-22</td><td>2025-03-12T15:41:32Z</td><td>2015-03-22T14:38:39Z</td><td>2025-03-12T15:41:32Z</td></tr></tbody></table></div>"
      ]
     },
     "metadata": {
      "application/vnd.databricks.v1+output": {
       "addedWidgets": {},
       "aggData": [],
       "aggError": "",
       "aggOverflow": false,
       "aggSchema": [],
       "aggSeriesLimitReached": false,
       "aggType": "",
       "arguments": {},
       "columnCustomDisplayInfos": {},
       "data": [
        [
         1741737600,
         1646641525847,
         "May, 2021",
         1741794092,
         "22/03/2015",
         1741737600,
         "2025-03-12 15:41:32",
         "2015-03-22",
         "2025-03-12T15:41:32Z",
         "2015-03-22T14:13:34Z",
         "2025-03-12T15:41:32Z"
        ],
        [
         1741737600,
         1646641557555,
         "Mar, 2021",
         1741794092,
         "22/03/2015",
         1741737600,
         "2025-03-12 15:41:32",
         "2015-03-22",
         "2025-03-12T15:41:32Z",
         "2015-03-22T15:03:18Z",
         "2025-03-12T15:41:32Z"
        ],
        [
         1741737600,
         1646641578622,
         "Jan, 2021",
         1741794092,
         "22/03/2015",
         1741737600,
         "2025-03-12 15:41:32",
         "2015-03-22",
         "2025-03-12T15:41:32Z",
         "2015-03-22T14:38:39Z",
         "2025-03-12T15:41:32Z"
        ]
       ],
       "datasetInfos": [],
       "dbfsResultPath": null,
       "isJsonSchema": true,
       "metadata": {},
       "overflow": false,
       "plotOptions": {
        "customPlotOptions": {},
        "displayType": "table",
        "pivotAggregation": null,
        "pivotColumns": null,
        "xColumns": null,
        "yColumns": null
       },
       "removedWidgets": [],
       "schema": [
        {
         "metadata": "{}",
         "name": "timestamp",
         "type": "\"long\""
        },
        {
         "metadata": "{}",
         "name": "unix",
         "type": "\"long\""
        },
        {
         "metadata": "{}",
         "name": "Date",
         "type": "\"string\""
        },
        {
         "metadata": "{}",
         "name": "unix_timestamp",
         "type": "\"long\""
        },
        {
         "metadata": "{}",
         "name": "date_format",
         "type": "\"string\""
        },
        {
         "metadata": "{}",
         "name": "to_unix_timestamp",
         "type": "\"long\""
        },
        {
         "metadata": "{}",
         "name": "from_unixtime",
         "type": "\"string\""
        },
        {
         "metadata": "{}",
         "name": "to_date",
         "type": "\"date\""
        },
        {
         "metadata": "{}",
         "name": "to_timestamp",
         "type": "\"timestamp\""
        },
        {
         "metadata": "{}",
         "name": "from_utc_timestamp",
         "type": "\"timestamp\""
        },
        {
         "metadata": "{}",
         "name": "to_utc_timestamp",
         "type": "\"timestamp\""
        }
       ],
       "type": "table"
      }
     },
     "output_type": "display_data"
    }
   ],
   "source": [
    "df = df.withColumn(\"timestamp\", to_unix_timestamp(\"current_date\", lit(\"yyyy-MM-dd'T'HH:mm:ss\")))\n",
    "display(df)"
   ]
  },
  {
   "cell_type": "markdown",
   "metadata": {
    "application/vnd.databricks.v1+cell": {
     "cellMetadata": {},
     "inputWidgets": {},
     "nuid": "965ee74b-2147-4065-a06b-a832afc3a7d4",
     "showTitle": false,
     "tableResultSettingsMap": {},
     "title": ""
    }
   },
   "source": [
    "2. Zmień format zgodnie z klasą `SimpleDateFormat`**yyyy-MM-dd HH:mm:ss**\n",
    "  * a. Wyświetl schemat i dane żeby sprawdzicz czy wartości się zmieniły"
   ]
  },
  {
   "cell_type": "code",
   "execution_count": 0,
   "metadata": {
    "application/vnd.databricks.v1+cell": {
     "cellMetadata": {
      "byteLimit": 2048000,
      "rowLimit": 10000
     },
     "inputWidgets": {},
     "nuid": "9013e7b3-750a-442e-9ac9-15d86b16e303",
     "showTitle": false,
     "tableResultSettingsMap": {},
     "title": ""
    }
   },
   "outputs": [
    {
     "output_type": "stream",
     "name": "stdout",
     "output_type": "stream",
     "text": [
      "root\n |-- timestamp: long (nullable = true)\n |-- unix: long (nullable = true)\n |-- Date: string (nullable = true)\n |-- unix_timestamp: long (nullable = true)\n |-- date_format: string (nullable = true)\n |-- to_unix_timestamp: long (nullable = true)\n |-- from_unixtime: string (nullable = true)\n |-- to_date: date (nullable = true)\n |-- to_timestamp: timestamp (nullable = true)\n |-- from_utc_timestamp: timestamp (nullable = true)\n |-- to_utc_timestamp: timestamp (nullable = true)\n\n"
     ]
    }
   ],
   "source": [
    "# timestamp ma teraz typ long\n",
    "df.printSchema()"
   ]
  },
  {
   "cell_type": "code",
   "execution_count": 0,
   "metadata": {
    "application/vnd.databricks.v1+cell": {
     "cellMetadata": {
      "byteLimit": 2048000,
      "rowLimit": 10000
     },
     "inputWidgets": {},
     "nuid": "f035d832-20ce-4a42-900a-e4b1a16c225b",
     "showTitle": false,
     "tableResultSettingsMap": {},
     "title": ""
    }
   },
   "outputs": [
    {
     "output_type": "display_data",
     "data": {
      "text/html": [
       "<style scoped>\n",
       "  .table-result-container {\n",
       "    max-height: 300px;\n",
       "    overflow: auto;\n",
       "  }\n",
       "  table, th, td {\n",
       "    border: 1px solid black;\n",
       "    border-collapse: collapse;\n",
       "  }\n",
       "  th, td {\n",
       "    padding: 5px;\n",
       "  }\n",
       "  th {\n",
       "    text-align: left;\n",
       "  }\n",
       "</style><div class='table-result-container'><table class='table-result'><thead style='background-color: white'><tr><th>timestamp</th><th>unix</th><th>Date</th><th>unix_timestamp</th><th>date_format</th><th>to_unix_timestamp</th><th>from_unixtime</th><th>to_date</th><th>to_timestamp</th><th>from_utc_timestamp</th><th>to_utc_timestamp</th></tr></thead><tbody><tr><td>1741737600</td><td>1646641525847</td><td>May, 2021</td><td>1741794281</td><td>22/03/2015</td><td>1741737600</td><td>2025-03-12 15:44:41</td><td>2015-03-22</td><td>2025-03-12T15:44:41Z</td><td>2015-03-22T14:13:34Z</td><td>2025-03-12T15:44:41Z</td></tr><tr><td>1741737600</td><td>1646641557555</td><td>Mar, 2021</td><td>1741794281</td><td>22/03/2015</td><td>1741737600</td><td>2025-03-12 15:44:41</td><td>2015-03-22</td><td>2025-03-12T15:44:41Z</td><td>2015-03-22T15:03:18Z</td><td>2025-03-12T15:44:41Z</td></tr><tr><td>1741737600</td><td>1646641578622</td><td>Jan, 2021</td><td>1741794281</td><td>22/03/2015</td><td>1741737600</td><td>2025-03-12 15:44:41</td><td>2015-03-22</td><td>2025-03-12T15:44:41Z</td><td>2015-03-22T14:38:39Z</td><td>2025-03-12T15:44:41Z</td></tr></tbody></table></div>"
      ]
     },
     "metadata": {
      "application/vnd.databricks.v1+output": {
       "addedWidgets": {},
       "aggData": [],
       "aggError": "",
       "aggOverflow": false,
       "aggSchema": [],
       "aggSeriesLimitReached": false,
       "aggType": "",
       "arguments": {},
       "columnCustomDisplayInfos": {},
       "data": [
        [
         "1741737600",
         1646641525847,
         "May, 2021",
         1741794281,
         "22/03/2015",
         1741737600,
         "2025-03-12 15:44:41",
         "2015-03-22",
         "2025-03-12T15:44:41Z",
         "2015-03-22T14:13:34Z",
         "2025-03-12T15:44:41Z"
        ],
        [
         "1741737600",
         1646641557555,
         "Mar, 2021",
         1741794281,
         "22/03/2015",
         1741737600,
         "2025-03-12 15:44:41",
         "2015-03-22",
         "2025-03-12T15:44:41Z",
         "2015-03-22T15:03:18Z",
         "2025-03-12T15:44:41Z"
        ],
        [
         "1741737600",
         1646641578622,
         "Jan, 2021",
         1741794281,
         "22/03/2015",
         1741737600,
         "2025-03-12 15:44:41",
         "2015-03-22",
         "2025-03-12T15:44:41Z",
         "2015-03-22T14:38:39Z",
         "2025-03-12T15:44:41Z"
        ]
       ],
       "datasetInfos": [],
       "dbfsResultPath": null,
       "isJsonSchema": true,
       "metadata": {},
       "overflow": false,
       "plotOptions": {
        "customPlotOptions": {},
        "displayType": "table",
        "pivotAggregation": null,
        "pivotColumns": null,
        "xColumns": null,
        "yColumns": null
       },
       "removedWidgets": [],
       "schema": [
        {
         "metadata": "{}",
         "name": "timestamp",
         "type": "\"string\""
        },
        {
         "metadata": "{}",
         "name": "unix",
         "type": "\"long\""
        },
        {
         "metadata": "{}",
         "name": "Date",
         "type": "\"string\""
        },
        {
         "metadata": "{}",
         "name": "unix_timestamp",
         "type": "\"long\""
        },
        {
         "metadata": "{}",
         "name": "date_format",
         "type": "\"string\""
        },
        {
         "metadata": "{}",
         "name": "to_unix_timestamp",
         "type": "\"long\""
        },
        {
         "metadata": "{}",
         "name": "from_unixtime",
         "type": "\"string\""
        },
        {
         "metadata": "{}",
         "name": "to_date",
         "type": "\"date\""
        },
        {
         "metadata": "{}",
         "name": "to_timestamp",
         "type": "\"timestamp\""
        },
        {
         "metadata": "{}",
         "name": "from_utc_timestamp",
         "type": "\"timestamp\""
        },
        {
         "metadata": "{}",
         "name": "to_utc_timestamp",
         "type": "\"timestamp\""
        }
       ],
       "type": "table"
      }
     },
     "output_type": "display_data"
    }
   ],
   "source": [
    "from pyspark.sql.types import StringType\n",
    "df = df.withColumn(\"timestamp\", df[\"timestamp\"].cast(StringType()))\n",
    "# zmiana typu na string\n",
    "display(df)"
   ]
  },
  {
   "cell_type": "code",
   "execution_count": 0,
   "metadata": {
    "application/vnd.databricks.v1+cell": {
     "cellMetadata": {
      "byteLimit": 2048000,
      "rowLimit": 10000
     },
     "inputWidgets": {},
     "nuid": "ffacb5fa-db57-48fb-ae7b-0063360be1b3",
     "showTitle": false,
     "tableResultSettingsMap": {},
     "title": ""
    }
   },
   "outputs": [
    {
     "output_type": "stream",
     "name": "stdout",
     "output_type": "stream",
     "text": [
      "root\n |-- timestamp: string (nullable = true)\n |-- unix: long (nullable = true)\n |-- Date: string (nullable = true)\n |-- unix_timestamp: long (nullable = true)\n |-- date_format: string (nullable = true)\n |-- to_unix_timestamp: long (nullable = true)\n |-- from_unixtime: string (nullable = true)\n |-- to_date: date (nullable = true)\n |-- to_timestamp: timestamp (nullable = true)\n |-- from_utc_timestamp: timestamp (nullable = true)\n |-- to_utc_timestamp: timestamp (nullable = true)\n\n"
     ]
    }
   ],
   "source": [
    "df.printSchema()"
   ]
  },
  {
   "cell_type": "markdown",
   "metadata": {
    "application/vnd.databricks.v1+cell": {
     "cellMetadata": {},
     "inputWidgets": {},
     "nuid": "db03d5cd-61eb-4fca-a821-e19a85950b6e",
     "showTitle": false,
     "tableResultSettingsMap": {},
     "title": ""
    }
   },
   "source": [
    "## Stwórz nowe kolumny do DataFrame z wartościami year(..), month(..), dayofyear(..)"
   ]
  },
  {
   "cell_type": "code",
   "execution_count": 0,
   "metadata": {
    "application/vnd.databricks.v1+cell": {
     "cellMetadata": {
      "byteLimit": 2048000,
      "rowLimit": 10000
     },
     "inputWidgets": {},
     "nuid": "e1461557-acfa-490d-80e7-ce453bf7a728",
     "showTitle": false,
     "tableResultSettingsMap": {},
     "title": ""
    }
   },
   "outputs": [
    {
     "output_type": "display_data",
     "data": {
      "text/html": [
       "<style scoped>\n",
       "  .table-result-container {\n",
       "    max-height: 300px;\n",
       "    overflow: auto;\n",
       "  }\n",
       "  table, th, td {\n",
       "    border: 1px solid black;\n",
       "    border-collapse: collapse;\n",
       "  }\n",
       "  th, td {\n",
       "    padding: 5px;\n",
       "  }\n",
       "  th {\n",
       "    text-align: left;\n",
       "  }\n",
       "</style><div class='table-result-container'><table class='table-result'><thead style='background-color: white'><tr><th>timestamp</th><th>unix</th><th>Date</th><th>unix_timestamp</th><th>date_format</th><th>to_unix_timestamp</th><th>from_unixtime</th><th>to_date</th><th>to_timestamp</th><th>from_utc_timestamp</th><th>to_utc_timestamp</th><th>year</th></tr></thead><tbody><tr><td>1741737600</td><td>1646641525847</td><td>May, 2021</td><td>1741794530</td><td>22/03/2015</td><td>1741737600</td><td>2025-03-12 15:48:50</td><td>2015-03-22</td><td>2025-03-12T15:48:50Z</td><td>2015-03-22T14:13:34Z</td><td>2025-03-12T15:48:50Z</td><td>2015</td></tr><tr><td>1741737600</td><td>1646641557555</td><td>Mar, 2021</td><td>1741794530</td><td>22/03/2015</td><td>1741737600</td><td>2025-03-12 15:48:50</td><td>2015-03-22</td><td>2025-03-12T15:48:50Z</td><td>2015-03-22T15:03:18Z</td><td>2025-03-12T15:48:50Z</td><td>2015</td></tr><tr><td>1741737600</td><td>1646641578622</td><td>Jan, 2021</td><td>1741794530</td><td>22/03/2015</td><td>1741737600</td><td>2025-03-12 15:48:50</td><td>2015-03-22</td><td>2025-03-12T15:48:50Z</td><td>2015-03-22T14:38:39Z</td><td>2025-03-12T15:48:50Z</td><td>2015</td></tr></tbody></table></div>"
      ]
     },
     "metadata": {
      "application/vnd.databricks.v1+output": {
       "addedWidgets": {},
       "aggData": [],
       "aggError": "",
       "aggOverflow": false,
       "aggSchema": [],
       "aggSeriesLimitReached": false,
       "aggType": "",
       "arguments": {},
       "columnCustomDisplayInfos": {},
       "data": [
        [
         "1741737600",
         1646641525847,
         "May, 2021",
         1741794530,
         "22/03/2015",
         1741737600,
         "2025-03-12 15:48:50",
         "2015-03-22",
         "2025-03-12T15:48:50Z",
         "2015-03-22T14:13:34Z",
         "2025-03-12T15:48:50Z",
         2015
        ],
        [
         "1741737600",
         1646641557555,
         "Mar, 2021",
         1741794530,
         "22/03/2015",
         1741737600,
         "2025-03-12 15:48:50",
         "2015-03-22",
         "2025-03-12T15:48:50Z",
         "2015-03-22T15:03:18Z",
         "2025-03-12T15:48:50Z",
         2015
        ],
        [
         "1741737600",
         1646641578622,
         "Jan, 2021",
         1741794530,
         "22/03/2015",
         1741737600,
         "2025-03-12 15:48:50",
         "2015-03-22",
         "2025-03-12T15:48:50Z",
         "2015-03-22T14:38:39Z",
         "2025-03-12T15:48:50Z",
         2015
        ]
       ],
       "datasetInfos": [],
       "dbfsResultPath": null,
       "isJsonSchema": true,
       "metadata": {},
       "overflow": false,
       "plotOptions": {
        "customPlotOptions": {},
        "displayType": "table",
        "pivotAggregation": null,
        "pivotColumns": null,
        "xColumns": null,
        "yColumns": null
       },
       "removedWidgets": [],
       "schema": [
        {
         "metadata": "{}",
         "name": "timestamp",
         "type": "\"string\""
        },
        {
         "metadata": "{}",
         "name": "unix",
         "type": "\"long\""
        },
        {
         "metadata": "{}",
         "name": "Date",
         "type": "\"string\""
        },
        {
         "metadata": "{}",
         "name": "unix_timestamp",
         "type": "\"long\""
        },
        {
         "metadata": "{}",
         "name": "date_format",
         "type": "\"string\""
        },
        {
         "metadata": "{}",
         "name": "to_unix_timestamp",
         "type": "\"long\""
        },
        {
         "metadata": "{}",
         "name": "from_unixtime",
         "type": "\"string\""
        },
        {
         "metadata": "{}",
         "name": "to_date",
         "type": "\"date\""
        },
        {
         "metadata": "{}",
         "name": "to_timestamp",
         "type": "\"timestamp\""
        },
        {
         "metadata": "{}",
         "name": "from_utc_timestamp",
         "type": "\"timestamp\""
        },
        {
         "metadata": "{}",
         "name": "to_utc_timestamp",
         "type": "\"timestamp\""
        },
        {
         "metadata": "{}",
         "name": "year",
         "type": "\"integer\""
        }
       ],
       "type": "table"
      }
     },
     "output_type": "display_data"
    }
   ],
   "source": [
    "df = df.withColumn(\"year\", year(\"to_date\"))\n",
    "\n",
    "display(df)"
   ]
  },
  {
   "cell_type": "code",
   "execution_count": 0,
   "metadata": {
    "application/vnd.databricks.v1+cell": {
     "cellMetadata": {
      "byteLimit": 2048000,
      "rowLimit": 10000
     },
     "inputWidgets": {},
     "nuid": "d2c0abf1-1002-423c-8bd0-5b2519dd1411",
     "showTitle": false,
     "tableResultSettingsMap": {},
     "title": ""
    }
   },
   "outputs": [
    {
     "output_type": "display_data",
     "data": {
      "text/html": [
       "<style scoped>\n",
       "  .table-result-container {\n",
       "    max-height: 300px;\n",
       "    overflow: auto;\n",
       "  }\n",
       "  table, th, td {\n",
       "    border: 1px solid black;\n",
       "    border-collapse: collapse;\n",
       "  }\n",
       "  th, td {\n",
       "    padding: 5px;\n",
       "  }\n",
       "  th {\n",
       "    text-align: left;\n",
       "  }\n",
       "</style><div class='table-result-container'><table class='table-result'><thead style='background-color: white'><tr><th>timestamp</th><th>unix</th><th>Date</th><th>unix_timestamp</th><th>date_format</th><th>to_unix_timestamp</th><th>from_unixtime</th><th>to_date</th><th>to_timestamp</th><th>from_utc_timestamp</th><th>to_utc_timestamp</th><th>year</th><th>month</th></tr></thead><tbody><tr><td>1741737600</td><td>1646641525847</td><td>May, 2021</td><td>1741794555</td><td>22/03/2015</td><td>1741737600</td><td>2025-03-12 15:49:15</td><td>2015-03-22</td><td>2025-03-12T15:49:15Z</td><td>2015-03-22T14:13:34Z</td><td>2025-03-12T15:49:15Z</td><td>2015</td><td>3</td></tr><tr><td>1741737600</td><td>1646641557555</td><td>Mar, 2021</td><td>1741794555</td><td>22/03/2015</td><td>1741737600</td><td>2025-03-12 15:49:15</td><td>2015-03-22</td><td>2025-03-12T15:49:15Z</td><td>2015-03-22T15:03:18Z</td><td>2025-03-12T15:49:15Z</td><td>2015</td><td>3</td></tr><tr><td>1741737600</td><td>1646641578622</td><td>Jan, 2021</td><td>1741794555</td><td>22/03/2015</td><td>1741737600</td><td>2025-03-12 15:49:15</td><td>2015-03-22</td><td>2025-03-12T15:49:15Z</td><td>2015-03-22T14:38:39Z</td><td>2025-03-12T15:49:15Z</td><td>2015</td><td>3</td></tr></tbody></table></div>"
      ]
     },
     "metadata": {
      "application/vnd.databricks.v1+output": {
       "addedWidgets": {},
       "aggData": [],
       "aggError": "",
       "aggOverflow": false,
       "aggSchema": [],
       "aggSeriesLimitReached": false,
       "aggType": "",
       "arguments": {},
       "columnCustomDisplayInfos": {},
       "data": [
        [
         "1741737600",
         1646641525847,
         "May, 2021",
         1741794555,
         "22/03/2015",
         1741737600,
         "2025-03-12 15:49:15",
         "2015-03-22",
         "2025-03-12T15:49:15Z",
         "2015-03-22T14:13:34Z",
         "2025-03-12T15:49:15Z",
         2015,
         3
        ],
        [
         "1741737600",
         1646641557555,
         "Mar, 2021",
         1741794555,
         "22/03/2015",
         1741737600,
         "2025-03-12 15:49:15",
         "2015-03-22",
         "2025-03-12T15:49:15Z",
         "2015-03-22T15:03:18Z",
         "2025-03-12T15:49:15Z",
         2015,
         3
        ],
        [
         "1741737600",
         1646641578622,
         "Jan, 2021",
         1741794555,
         "22/03/2015",
         1741737600,
         "2025-03-12 15:49:15",
         "2015-03-22",
         "2025-03-12T15:49:15Z",
         "2015-03-22T14:38:39Z",
         "2025-03-12T15:49:15Z",
         2015,
         3
        ]
       ],
       "datasetInfos": [],
       "dbfsResultPath": null,
       "isJsonSchema": true,
       "metadata": {},
       "overflow": false,
       "plotOptions": {
        "customPlotOptions": {},
        "displayType": "table",
        "pivotAggregation": null,
        "pivotColumns": null,
        "xColumns": null,
        "yColumns": null
       },
       "removedWidgets": [],
       "schema": [
        {
         "metadata": "{}",
         "name": "timestamp",
         "type": "\"string\""
        },
        {
         "metadata": "{}",
         "name": "unix",
         "type": "\"long\""
        },
        {
         "metadata": "{}",
         "name": "Date",
         "type": "\"string\""
        },
        {
         "metadata": "{}",
         "name": "unix_timestamp",
         "type": "\"long\""
        },
        {
         "metadata": "{}",
         "name": "date_format",
         "type": "\"string\""
        },
        {
         "metadata": "{}",
         "name": "to_unix_timestamp",
         "type": "\"long\""
        },
        {
         "metadata": "{}",
         "name": "from_unixtime",
         "type": "\"string\""
        },
        {
         "metadata": "{}",
         "name": "to_date",
         "type": "\"date\""
        },
        {
         "metadata": "{}",
         "name": "to_timestamp",
         "type": "\"timestamp\""
        },
        {
         "metadata": "{}",
         "name": "from_utc_timestamp",
         "type": "\"timestamp\""
        },
        {
         "metadata": "{}",
         "name": "to_utc_timestamp",
         "type": "\"timestamp\""
        },
        {
         "metadata": "{}",
         "name": "year",
         "type": "\"integer\""
        },
        {
         "metadata": "{}",
         "name": "month",
         "type": "\"integer\""
        }
       ],
       "type": "table"
      }
     },
     "output_type": "display_data"
    }
   ],
   "source": [
    "df = df.withColumn(\"month\", month(\"to_date\"))\n",
    "\n",
    "display(df)"
   ]
  },
  {
   "cell_type": "code",
   "execution_count": 0,
   "metadata": {
    "application/vnd.databricks.v1+cell": {
     "cellMetadata": {
      "byteLimit": 2048000,
      "rowLimit": 10000
     },
     "inputWidgets": {},
     "nuid": "867a2aa1-3f1d-41ed-9d75-dbf309fb3dd2",
     "showTitle": false,
     "tableResultSettingsMap": {},
     "title": ""
    }
   },
   "outputs": [
    {
     "output_type": "display_data",
     "data": {
      "text/html": [
       "<style scoped>\n",
       "  .table-result-container {\n",
       "    max-height: 300px;\n",
       "    overflow: auto;\n",
       "  }\n",
       "  table, th, td {\n",
       "    border: 1px solid black;\n",
       "    border-collapse: collapse;\n",
       "  }\n",
       "  th, td {\n",
       "    padding: 5px;\n",
       "  }\n",
       "  th {\n",
       "    text-align: left;\n",
       "  }\n",
       "</style><div class='table-result-container'><table class='table-result'><thead style='background-color: white'><tr><th>timestamp</th><th>unix</th><th>Date</th><th>unix_timestamp</th><th>date_format</th><th>to_unix_timestamp</th><th>from_unixtime</th><th>to_date</th><th>to_timestamp</th><th>from_utc_timestamp</th><th>to_utc_timestamp</th><th>year</th><th>month</th><th>day</th></tr></thead><tbody><tr><td>1741737600</td><td>1646641525847</td><td>May, 2021</td><td>1741794556</td><td>22/03/2015</td><td>1741737600</td><td>2025-03-12 15:49:16</td><td>2015-03-22</td><td>2025-03-12T15:49:16Z</td><td>2015-03-22T14:13:34Z</td><td>2025-03-12T15:49:16Z</td><td>2015</td><td>3</td><td>22</td></tr><tr><td>1741737600</td><td>1646641557555</td><td>Mar, 2021</td><td>1741794556</td><td>22/03/2015</td><td>1741737600</td><td>2025-03-12 15:49:16</td><td>2015-03-22</td><td>2025-03-12T15:49:16Z</td><td>2015-03-22T15:03:18Z</td><td>2025-03-12T15:49:16Z</td><td>2015</td><td>3</td><td>22</td></tr><tr><td>1741737600</td><td>1646641578622</td><td>Jan, 2021</td><td>1741794556</td><td>22/03/2015</td><td>1741737600</td><td>2025-03-12 15:49:16</td><td>2015-03-22</td><td>2025-03-12T15:49:16Z</td><td>2015-03-22T14:38:39Z</td><td>2025-03-12T15:49:16Z</td><td>2015</td><td>3</td><td>22</td></tr></tbody></table></div>"
      ]
     },
     "metadata": {
      "application/vnd.databricks.v1+output": {
       "addedWidgets": {},
       "aggData": [],
       "aggError": "",
       "aggOverflow": false,
       "aggSchema": [],
       "aggSeriesLimitReached": false,
       "aggType": "",
       "arguments": {},
       "columnCustomDisplayInfos": {},
       "data": [
        [
         "1741737600",
         1646641525847,
         "May, 2021",
         1741794556,
         "22/03/2015",
         1741737600,
         "2025-03-12 15:49:16",
         "2015-03-22",
         "2025-03-12T15:49:16Z",
         "2015-03-22T14:13:34Z",
         "2025-03-12T15:49:16Z",
         2015,
         3,
         22
        ],
        [
         "1741737600",
         1646641557555,
         "Mar, 2021",
         1741794556,
         "22/03/2015",
         1741737600,
         "2025-03-12 15:49:16",
         "2015-03-22",
         "2025-03-12T15:49:16Z",
         "2015-03-22T15:03:18Z",
         "2025-03-12T15:49:16Z",
         2015,
         3,
         22
        ],
        [
         "1741737600",
         1646641578622,
         "Jan, 2021",
         1741794556,
         "22/03/2015",
         1741737600,
         "2025-03-12 15:49:16",
         "2015-03-22",
         "2025-03-12T15:49:16Z",
         "2015-03-22T14:38:39Z",
         "2025-03-12T15:49:16Z",
         2015,
         3,
         22
        ]
       ],
       "datasetInfos": [],
       "dbfsResultPath": null,
       "isJsonSchema": true,
       "metadata": {},
       "overflow": false,
       "plotOptions": {
        "customPlotOptions": {},
        "displayType": "table",
        "pivotAggregation": null,
        "pivotColumns": null,
        "xColumns": null,
        "yColumns": null
       },
       "removedWidgets": [],
       "schema": [
        {
         "metadata": "{}",
         "name": "timestamp",
         "type": "\"string\""
        },
        {
         "metadata": "{}",
         "name": "unix",
         "type": "\"long\""
        },
        {
         "metadata": "{}",
         "name": "Date",
         "type": "\"string\""
        },
        {
         "metadata": "{}",
         "name": "unix_timestamp",
         "type": "\"long\""
        },
        {
         "metadata": "{}",
         "name": "date_format",
         "type": "\"string\""
        },
        {
         "metadata": "{}",
         "name": "to_unix_timestamp",
         "type": "\"long\""
        },
        {
         "metadata": "{}",
         "name": "from_unixtime",
         "type": "\"string\""
        },
        {
         "metadata": "{}",
         "name": "to_date",
         "type": "\"date\""
        },
        {
         "metadata": "{}",
         "name": "to_timestamp",
         "type": "\"timestamp\""
        },
        {
         "metadata": "{}",
         "name": "from_utc_timestamp",
         "type": "\"timestamp\""
        },
        {
         "metadata": "{}",
         "name": "to_utc_timestamp",
         "type": "\"timestamp\""
        },
        {
         "metadata": "{}",
         "name": "year",
         "type": "\"integer\""
        },
        {
         "metadata": "{}",
         "name": "month",
         "type": "\"integer\""
        },
        {
         "metadata": "{}",
         "name": "day",
         "type": "\"integer\""
        }
       ],
       "type": "table"
      }
     },
     "output_type": "display_data"
    }
   ],
   "source": [
    "df = df.withColumn(\"day\", day(\"to_date\"))\n",
    "\n",
    "display(df)"
   ]
  },
  {
   "cell_type": "code",
   "execution_count": 0,
   "metadata": {
    "application/vnd.databricks.v1+cell": {
     "cellMetadata": {
      "byteLimit": 2048000,
      "rowLimit": 10000
     },
     "inputWidgets": {},
     "nuid": "ebba34dc-f8ad-4c31-9de1-59bf7e86e749",
     "showTitle": false,
     "tableResultSettingsMap": {},
     "title": ""
    }
   },
   "outputs": [
    {
     "output_type": "display_data",
     "data": {
      "text/html": [
       "<style scoped>\n",
       "  .table-result-container {\n",
       "    max-height: 300px;\n",
       "    overflow: auto;\n",
       "  }\n",
       "  table, th, td {\n",
       "    border: 1px solid black;\n",
       "    border-collapse: collapse;\n",
       "  }\n",
       "  th, td {\n",
       "    padding: 5px;\n",
       "  }\n",
       "  th {\n",
       "    text-align: left;\n",
       "  }\n",
       "</style><div class='table-result-container'><table class='table-result'><thead style='background-color: white'><tr><th>timestamp</th><th>unix</th><th>Date</th><th>unix_timestamp</th><th>date_format</th><th>to_unix_timestamp</th><th>from_unixtime</th><th>to_date</th><th>to_timestamp</th><th>from_utc_timestamp</th><th>to_utc_timestamp</th><th>year</th><th>month</th><th>day</th><th>dayofyear</th></tr></thead><tbody><tr><td>1741737600</td><td>1646641525847</td><td>May, 2021</td><td>1741794705</td><td>22/03/2015</td><td>1741737600</td><td>2025-03-12 15:51:45</td><td>2015-03-22</td><td>2025-03-12T15:51:45Z</td><td>2015-03-22T14:13:34Z</td><td>2025-03-12T15:51:45Z</td><td>2015</td><td>3</td><td>22</td><td>81</td></tr><tr><td>1741737600</td><td>1646641557555</td><td>Mar, 2021</td><td>1741794705</td><td>22/03/2015</td><td>1741737600</td><td>2025-03-12 15:51:45</td><td>2015-03-22</td><td>2025-03-12T15:51:45Z</td><td>2015-03-22T15:03:18Z</td><td>2025-03-12T15:51:45Z</td><td>2015</td><td>3</td><td>22</td><td>81</td></tr><tr><td>1741737600</td><td>1646641578622</td><td>Jan, 2021</td><td>1741794705</td><td>22/03/2015</td><td>1741737600</td><td>2025-03-12 15:51:45</td><td>2015-03-22</td><td>2025-03-12T15:51:45Z</td><td>2015-03-22T14:38:39Z</td><td>2025-03-12T15:51:45Z</td><td>2015</td><td>3</td><td>22</td><td>81</td></tr></tbody></table></div>"
      ]
     },
     "metadata": {
      "application/vnd.databricks.v1+output": {
       "addedWidgets": {},
       "aggData": [],
       "aggError": "",
       "aggOverflow": false,
       "aggSchema": [],
       "aggSeriesLimitReached": false,
       "aggType": "",
       "arguments": {},
       "columnCustomDisplayInfos": {},
       "data": [
        [
         "1741737600",
         1646641525847,
         "May, 2021",
         1741794705,
         "22/03/2015",
         1741737600,
         "2025-03-12 15:51:45",
         "2015-03-22",
         "2025-03-12T15:51:45Z",
         "2015-03-22T14:13:34Z",
         "2025-03-12T15:51:45Z",
         2015,
         3,
         22,
         81
        ],
        [
         "1741737600",
         1646641557555,
         "Mar, 2021",
         1741794705,
         "22/03/2015",
         1741737600,
         "2025-03-12 15:51:45",
         "2015-03-22",
         "2025-03-12T15:51:45Z",
         "2015-03-22T15:03:18Z",
         "2025-03-12T15:51:45Z",
         2015,
         3,
         22,
         81
        ],
        [
         "1741737600",
         1646641578622,
         "Jan, 2021",
         1741794705,
         "22/03/2015",
         1741737600,
         "2025-03-12 15:51:45",
         "2015-03-22",
         "2025-03-12T15:51:45Z",
         "2015-03-22T14:38:39Z",
         "2025-03-12T15:51:45Z",
         2015,
         3,
         22,
         81
        ]
       ],
       "datasetInfos": [],
       "dbfsResultPath": null,
       "isJsonSchema": true,
       "metadata": {},
       "overflow": false,
       "plotOptions": {
        "customPlotOptions": {},
        "displayType": "table",
        "pivotAggregation": null,
        "pivotColumns": null,
        "xColumns": null,
        "yColumns": null
       },
       "removedWidgets": [],
       "schema": [
        {
         "metadata": "{}",
         "name": "timestamp",
         "type": "\"string\""
        },
        {
         "metadata": "{}",
         "name": "unix",
         "type": "\"long\""
        },
        {
         "metadata": "{}",
         "name": "Date",
         "type": "\"string\""
        },
        {
         "metadata": "{}",
         "name": "unix_timestamp",
         "type": "\"long\""
        },
        {
         "metadata": "{}",
         "name": "date_format",
         "type": "\"string\""
        },
        {
         "metadata": "{}",
         "name": "to_unix_timestamp",
         "type": "\"long\""
        },
        {
         "metadata": "{}",
         "name": "from_unixtime",
         "type": "\"string\""
        },
        {
         "metadata": "{}",
         "name": "to_date",
         "type": "\"date\""
        },
        {
         "metadata": "{}",
         "name": "to_timestamp",
         "type": "\"timestamp\""
        },
        {
         "metadata": "{}",
         "name": "from_utc_timestamp",
         "type": "\"timestamp\""
        },
        {
         "metadata": "{}",
         "name": "to_utc_timestamp",
         "type": "\"timestamp\""
        },
        {
         "metadata": "{}",
         "name": "year",
         "type": "\"integer\""
        },
        {
         "metadata": "{}",
         "name": "month",
         "type": "\"integer\""
        },
        {
         "metadata": "{}",
         "name": "day",
         "type": "\"integer\""
        },
        {
         "metadata": "{}",
         "name": "dayofyear",
         "type": "\"integer\""
        }
       ],
       "type": "table"
      }
     },
     "output_type": "display_data"
    }
   ],
   "source": [
    "df = df.withColumn(\"dayofyear\", dayofyear(\"to_date\"))\n",
    "\n",
    "display(df)"
   ]
  },
  {
   "cell_type": "code",
   "execution_count": 0,
   "metadata": {
    "application/vnd.databricks.v1+cell": {
     "cellMetadata": {
      "byteLimit": 2048000,
      "rowLimit": 10000
     },
     "inputWidgets": {},
     "nuid": "8ea929b6-c0cb-49a1-9db7-f9b057fb4de9",
     "showTitle": false,
     "tableResultSettingsMap": {},
     "title": ""
    }
   },
   "outputs": [
    {
     "output_type": "display_data",
     "data": {
      "text/html": [
       "<style scoped>\n",
       "  .table-result-container {\n",
       "    max-height: 300px;\n",
       "    overflow: auto;\n",
       "  }\n",
       "  table, th, td {\n",
       "    border: 1px solid black;\n",
       "    border-collapse: collapse;\n",
       "  }\n",
       "  th, td {\n",
       "    padding: 5px;\n",
       "  }\n",
       "  th {\n",
       "    text-align: left;\n",
       "  }\n",
       "</style><div class='table-result-container'><table class='table-result'><thead style='background-color: white'><tr><th>timestamp</th><th>unix</th><th>Date</th><th>unix_timestamp</th><th>date_format</th><th>to_unix_timestamp</th><th>from_unixtime</th><th>to_date</th><th>to_timestamp</th><th>from_utc_timestamp</th><th>to_utc_timestamp</th><th>year</th><th>month</th><th>day</th><th>dayofyear</th><th>second</th></tr></thead><tbody><tr><td>1741737600</td><td>1646641525847</td><td>May, 2021</td><td>1741794729</td><td>22/03/2015</td><td>1741737600</td><td>2025-03-12 15:52:09</td><td>2015-03-22</td><td>2025-03-12T15:52:09Z</td><td>2015-03-22T14:13:34Z</td><td>2025-03-12T15:52:09Z</td><td>2015</td><td>3</td><td>22</td><td>81</td><td>9</td></tr><tr><td>1741737600</td><td>1646641557555</td><td>Mar, 2021</td><td>1741794729</td><td>22/03/2015</td><td>1741737600</td><td>2025-03-12 15:52:09</td><td>2015-03-22</td><td>2025-03-12T15:52:09Z</td><td>2015-03-22T15:03:18Z</td><td>2025-03-12T15:52:09Z</td><td>2015</td><td>3</td><td>22</td><td>81</td><td>9</td></tr><tr><td>1741737600</td><td>1646641578622</td><td>Jan, 2021</td><td>1741794729</td><td>22/03/2015</td><td>1741737600</td><td>2025-03-12 15:52:09</td><td>2015-03-22</td><td>2025-03-12T15:52:09Z</td><td>2015-03-22T14:38:39Z</td><td>2025-03-12T15:52:09Z</td><td>2015</td><td>3</td><td>22</td><td>81</td><td>9</td></tr></tbody></table></div>"
      ]
     },
     "metadata": {
      "application/vnd.databricks.v1+output": {
       "addedWidgets": {},
       "aggData": [],
       "aggError": "",
       "aggOverflow": false,
       "aggSchema": [],
       "aggSeriesLimitReached": false,
       "aggType": "",
       "arguments": {},
       "columnCustomDisplayInfos": {},
       "data": [
        [
         "1741737600",
         1646641525847,
         "May, 2021",
         1741794729,
         "22/03/2015",
         1741737600,
         "2025-03-12 15:52:09",
         "2015-03-22",
         "2025-03-12T15:52:09Z",
         "2015-03-22T14:13:34Z",
         "2025-03-12T15:52:09Z",
         2015,
         3,
         22,
         81,
         9
        ],
        [
         "1741737600",
         1646641557555,
         "Mar, 2021",
         1741794729,
         "22/03/2015",
         1741737600,
         "2025-03-12 15:52:09",
         "2015-03-22",
         "2025-03-12T15:52:09Z",
         "2015-03-22T15:03:18Z",
         "2025-03-12T15:52:09Z",
         2015,
         3,
         22,
         81,
         9
        ],
        [
         "1741737600",
         1646641578622,
         "Jan, 2021",
         1741794729,
         "22/03/2015",
         1741737600,
         "2025-03-12 15:52:09",
         "2015-03-22",
         "2025-03-12T15:52:09Z",
         "2015-03-22T14:38:39Z",
         "2025-03-12T15:52:09Z",
         2015,
         3,
         22,
         81,
         9
        ]
       ],
       "datasetInfos": [],
       "dbfsResultPath": null,
       "isJsonSchema": true,
       "metadata": {},
       "overflow": false,
       "plotOptions": {
        "customPlotOptions": {},
        "displayType": "table",
        "pivotAggregation": null,
        "pivotColumns": null,
        "xColumns": null,
        "yColumns": null
       },
       "removedWidgets": [],
       "schema": [
        {
         "metadata": "{}",
         "name": "timestamp",
         "type": "\"string\""
        },
        {
         "metadata": "{}",
         "name": "unix",
         "type": "\"long\""
        },
        {
         "metadata": "{}",
         "name": "Date",
         "type": "\"string\""
        },
        {
         "metadata": "{}",
         "name": "unix_timestamp",
         "type": "\"long\""
        },
        {
         "metadata": "{}",
         "name": "date_format",
         "type": "\"string\""
        },
        {
         "metadata": "{}",
         "name": "to_unix_timestamp",
         "type": "\"long\""
        },
        {
         "metadata": "{}",
         "name": "from_unixtime",
         "type": "\"string\""
        },
        {
         "metadata": "{}",
         "name": "to_date",
         "type": "\"date\""
        },
        {
         "metadata": "{}",
         "name": "to_timestamp",
         "type": "\"timestamp\""
        },
        {
         "metadata": "{}",
         "name": "from_utc_timestamp",
         "type": "\"timestamp\""
        },
        {
         "metadata": "{}",
         "name": "to_utc_timestamp",
         "type": "\"timestamp\""
        },
        {
         "metadata": "{}",
         "name": "year",
         "type": "\"integer\""
        },
        {
         "metadata": "{}",
         "name": "month",
         "type": "\"integer\""
        },
        {
         "metadata": "{}",
         "name": "day",
         "type": "\"integer\""
        },
        {
         "metadata": "{}",
         "name": "dayofyear",
         "type": "\"integer\""
        },
        {
         "metadata": "{}",
         "name": "second",
         "type": "\"integer\""
        }
       ],
       "type": "table"
      }
     },
     "output_type": "display_data"
    }
   ],
   "source": [
    "df = df.withColumn(\"second\", second(\"to_timestamp\"))\n",
    "\n",
    "display(df)"
   ]
  },
  {
   "cell_type": "code",
   "execution_count": 0,
   "metadata": {
    "application/vnd.databricks.v1+cell": {
     "cellMetadata": {
      "byteLimit": 2048000,
      "rowLimit": 10000
     },
     "inputWidgets": {},
     "nuid": "d9d24a58-521a-4bb2-b03a-a1fac517faed",
     "showTitle": false,
     "tableResultSettingsMap": {},
     "title": ""
    }
   },
   "outputs": [
    {
     "output_type": "display_data",
     "data": {
      "text/html": [
       "<style scoped>\n",
       "  .table-result-container {\n",
       "    max-height: 300px;\n",
       "    overflow: auto;\n",
       "  }\n",
       "  table, th, td {\n",
       "    border: 1px solid black;\n",
       "    border-collapse: collapse;\n",
       "  }\n",
       "  th, td {\n",
       "    padding: 5px;\n",
       "  }\n",
       "  th {\n",
       "    text-align: left;\n",
       "  }\n",
       "</style><div class='table-result-container'><table class='table-result'><thead style='background-color: white'><tr><th>timestamp</th><th>unix</th><th>Date</th><th>unix_timestamp</th><th>date_format</th><th>to_unix_timestamp</th><th>from_unixtime</th><th>to_date</th><th>to_timestamp</th><th>from_utc_timestamp</th><th>to_utc_timestamp</th><th>year</th><th>month</th><th>day</th><th>dayofyear</th><th>second</th><th>minute</th></tr></thead><tbody><tr><td>1741737600</td><td>1646641525847</td><td>May, 2021</td><td>1741794743</td><td>22/03/2015</td><td>1741737600</td><td>2025-03-12 15:52:23</td><td>2015-03-22</td><td>2025-03-12T15:52:23Z</td><td>2015-03-22T14:13:34Z</td><td>2025-03-12T15:52:23Z</td><td>2015</td><td>3</td><td>22</td><td>81</td><td>23</td><td>52</td></tr><tr><td>1741737600</td><td>1646641557555</td><td>Mar, 2021</td><td>1741794743</td><td>22/03/2015</td><td>1741737600</td><td>2025-03-12 15:52:23</td><td>2015-03-22</td><td>2025-03-12T15:52:23Z</td><td>2015-03-22T15:03:18Z</td><td>2025-03-12T15:52:23Z</td><td>2015</td><td>3</td><td>22</td><td>81</td><td>23</td><td>52</td></tr><tr><td>1741737600</td><td>1646641578622</td><td>Jan, 2021</td><td>1741794743</td><td>22/03/2015</td><td>1741737600</td><td>2025-03-12 15:52:23</td><td>2015-03-22</td><td>2025-03-12T15:52:23Z</td><td>2015-03-22T14:38:39Z</td><td>2025-03-12T15:52:23Z</td><td>2015</td><td>3</td><td>22</td><td>81</td><td>23</td><td>52</td></tr></tbody></table></div>"
      ]
     },
     "metadata": {
      "application/vnd.databricks.v1+output": {
       "addedWidgets": {},
       "aggData": [],
       "aggError": "",
       "aggOverflow": false,
       "aggSchema": [],
       "aggSeriesLimitReached": false,
       "aggType": "",
       "arguments": {},
       "columnCustomDisplayInfos": {},
       "data": [
        [
         "1741737600",
         1646641525847,
         "May, 2021",
         1741794743,
         "22/03/2015",
         1741737600,
         "2025-03-12 15:52:23",
         "2015-03-22",
         "2025-03-12T15:52:23Z",
         "2015-03-22T14:13:34Z",
         "2025-03-12T15:52:23Z",
         2015,
         3,
         22,
         81,
         23,
         52
        ],
        [
         "1741737600",
         1646641557555,
         "Mar, 2021",
         1741794743,
         "22/03/2015",
         1741737600,
         "2025-03-12 15:52:23",
         "2015-03-22",
         "2025-03-12T15:52:23Z",
         "2015-03-22T15:03:18Z",
         "2025-03-12T15:52:23Z",
         2015,
         3,
         22,
         81,
         23,
         52
        ],
        [
         "1741737600",
         1646641578622,
         "Jan, 2021",
         1741794743,
         "22/03/2015",
         1741737600,
         "2025-03-12 15:52:23",
         "2015-03-22",
         "2025-03-12T15:52:23Z",
         "2015-03-22T14:38:39Z",
         "2025-03-12T15:52:23Z",
         2015,
         3,
         22,
         81,
         23,
         52
        ]
       ],
       "datasetInfos": [],
       "dbfsResultPath": null,
       "isJsonSchema": true,
       "metadata": {},
       "overflow": false,
       "plotOptions": {
        "customPlotOptions": {},
        "displayType": "table",
        "pivotAggregation": null,
        "pivotColumns": null,
        "xColumns": null,
        "yColumns": null
       },
       "removedWidgets": [],
       "schema": [
        {
         "metadata": "{}",
         "name": "timestamp",
         "type": "\"string\""
        },
        {
         "metadata": "{}",
         "name": "unix",
         "type": "\"long\""
        },
        {
         "metadata": "{}",
         "name": "Date",
         "type": "\"string\""
        },
        {
         "metadata": "{}",
         "name": "unix_timestamp",
         "type": "\"long\""
        },
        {
         "metadata": "{}",
         "name": "date_format",
         "type": "\"string\""
        },
        {
         "metadata": "{}",
         "name": "to_unix_timestamp",
         "type": "\"long\""
        },
        {
         "metadata": "{}",
         "name": "from_unixtime",
         "type": "\"string\""
        },
        {
         "metadata": "{}",
         "name": "to_date",
         "type": "\"date\""
        },
        {
         "metadata": "{}",
         "name": "to_timestamp",
         "type": "\"timestamp\""
        },
        {
         "metadata": "{}",
         "name": "from_utc_timestamp",
         "type": "\"timestamp\""
        },
        {
         "metadata": "{}",
         "name": "to_utc_timestamp",
         "type": "\"timestamp\""
        },
        {
         "metadata": "{}",
         "name": "year",
         "type": "\"integer\""
        },
        {
         "metadata": "{}",
         "name": "month",
         "type": "\"integer\""
        },
        {
         "metadata": "{}",
         "name": "day",
         "type": "\"integer\""
        },
        {
         "metadata": "{}",
         "name": "dayofyear",
         "type": "\"integer\""
        },
        {
         "metadata": "{}",
         "name": "second",
         "type": "\"integer\""
        },
        {
         "metadata": "{}",
         "name": "minute",
         "type": "\"integer\""
        }
       ],
       "type": "table"
      }
     },
     "output_type": "display_data"
    }
   ],
   "source": [
    "df = df.withColumn(\"minute\", minute(\"to_timestamp\"))\n",
    "\n",
    "display(df)"
   ]
  }
 ],
 "metadata": {
  "application/vnd.databricks.v1+notebook": {
   "computePreferences": null,
   "dashboards": [],
   "environmentMetadata": null,
   "language": "python",
   "notebookMetadata": {
    "pythonIndentUnit": 4
   },
   "notebookName": "Daty",
   "widgets": {}
  }
 },
 "nbformat": 4,
 "nbformat_minor": 0
}
