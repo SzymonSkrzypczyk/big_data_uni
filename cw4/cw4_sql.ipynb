{
 "cells": [
  {
   "cell_type": "code",
   "execution_count": 0,
   "metadata": {
    "application/vnd.databricks.v1+cell": {
     "cellMetadata": {
      "byteLimit": 2048000,
      "implicitDf": true,
      "rowLimit": 10000
     },
     "inputWidgets": {},
     "nuid": "5f313fe5-aab7-4e90-a1bc-1e93fecec7ef",
     "showTitle": false,
     "tableResultSettingsMap": {},
     "title": ""
    }
   },
   "outputs": [
    {
     "output_type": "display_data",
     "data": {
      "text/html": [
       "<style scoped>\n",
       "  .table-result-container {\n",
       "    max-height: 300px;\n",
       "    overflow: auto;\n",
       "  }\n",
       "  table, th, td {\n",
       "    border: 1px solid black;\n",
       "    border-collapse: collapse;\n",
       "  }\n",
       "  th, td {\n",
       "    padding: 5px;\n",
       "  }\n",
       "  th {\n",
       "    text-align: left;\n",
       "  }\n",
       "</style><div class='table-result-container'><table class='table-result'><thead style='background-color: white'><tr></tr></thead><tbody></tbody></table></div>"
      ]
     },
     "metadata": {
      "application/vnd.databricks.v1+output": {
       "addedWidgets": {},
       "aggData": [],
       "aggError": "",
       "aggOverflow": false,
       "aggSchema": [],
       "aggSeriesLimitReached": false,
       "aggType": "",
       "arguments": {},
       "columnCustomDisplayInfos": {},
       "data": [],
       "datasetInfos": [],
       "dbfsResultPath": null,
       "isJsonSchema": true,
       "metadata": {
        "dataframeName": null
       },
       "overflow": false,
       "plotOptions": {
        "customPlotOptions": {},
        "displayType": "table",
        "pivotAggregation": null,
        "pivotColumns": null,
        "xColumns": null,
        "yColumns": null
       },
       "removedWidgets": [],
       "schema": [],
       "type": "table"
      }
     },
     "output_type": "display_data"
    }
   ],
   "source": [
    "%sql\n",
    "Create database if not exists Sample"
   ]
  },
  {
   "cell_type": "code",
   "execution_count": 0,
   "metadata": {
    "application/vnd.databricks.v1+cell": {
     "cellMetadata": {
      "byteLimit": 2048000,
      "implicitDf": true,
      "rowLimit": 10000
     },
     "inputWidgets": {},
     "nuid": "2e2ccf08-4b78-4f81-b3ce-614e6d433aed",
     "showTitle": false,
     "tableResultSettingsMap": {},
     "title": ""
    }
   },
   "outputs": [
    {
     "output_type": "display_data",
     "data": {
      "text/html": [
       "<style scoped>\n",
       "  .table-result-container {\n",
       "    max-height: 300px;\n",
       "    overflow: auto;\n",
       "  }\n",
       "  table, th, td {\n",
       "    border: 1px solid black;\n",
       "    border-collapse: collapse;\n",
       "  }\n",
       "  th, td {\n",
       "    padding: 5px;\n",
       "  }\n",
       "  th {\n",
       "    text-align: left;\n",
       "  }\n",
       "</style><div class='table-result-container'><table class='table-result'><thead style='background-color: white'><tr></tr></thead><tbody></tbody></table></div>"
      ]
     },
     "metadata": {
      "application/vnd.databricks.v1+output": {
       "addedWidgets": {},
       "aggData": [],
       "aggError": "",
       "aggOverflow": false,
       "aggSchema": [],
       "aggSeriesLimitReached": false,
       "aggType": "",
       "arguments": {},
       "columnCustomDisplayInfos": {},
       "data": [],
       "datasetInfos": [],
       "dbfsResultPath": null,
       "isJsonSchema": true,
       "metadata": {
        "dataframeName": null
       },
       "overflow": false,
       "plotOptions": {
        "customPlotOptions": {},
        "displayType": "table",
        "pivotAggregation": null,
        "pivotColumns": null,
        "xColumns": null,
        "yColumns": null
       },
       "removedWidgets": [],
       "schema": [],
       "type": "table"
      }
     },
     "output_type": "display_data"
    }
   ],
   "source": [
    "%sql\n",
    "\n",
    "CREATE TABLE IF NOT EXISTS Sample.Transactions ( AccountId INT, TranDate DATE, TranAmt DECIMAL(8, 2));\n",
    "\n",
    "CREATE TABLE IF NOT EXISTS Sample.Logical (RowID INT,FName VARCHAR(20), Salary SMALLINT);"
   ]
  },
  {
   "cell_type": "code",
   "execution_count": 0,
   "metadata": {
    "application/vnd.databricks.v1+cell": {
     "cellMetadata": {
      "byteLimit": 2048000,
      "implicitDf": true,
      "rowLimit": 10000
     },
     "inputWidgets": {},
     "nuid": "4faab1dd-9739-4060-b19f-6c190412b9a7",
     "showTitle": false,
     "tableResultSettingsMap": {},
     "title": ""
    }
   },
   "outputs": [
    {
     "output_type": "display_data",
     "data": {
      "text/html": [
       "<style scoped>\n",
       "  .table-result-container {\n",
       "    max-height: 300px;\n",
       "    overflow: auto;\n",
       "  }\n",
       "  table, th, td {\n",
       "    border: 1px solid black;\n",
       "    border-collapse: collapse;\n",
       "  }\n",
       "  th, td {\n",
       "    padding: 5px;\n",
       "  }\n",
       "  th {\n",
       "    text-align: left;\n",
       "  }\n",
       "</style><div class='table-result-container'><table class='table-result'><thead style='background-color: white'><tr><th>num_affected_rows</th><th>num_inserted_rows</th></tr></thead><tbody><tr><td>18</td><td>18</td></tr></tbody></table></div>"
      ]
     },
     "metadata": {
      "application/vnd.databricks.v1+output": {
       "addedWidgets": {},
       "aggData": [],
       "aggError": "",
       "aggOverflow": false,
       "aggSchema": [],
       "aggSeriesLimitReached": false,
       "aggType": "",
       "arguments": {},
       "columnCustomDisplayInfos": {},
       "data": [
        [
         18,
         18
        ]
       ],
       "datasetInfos": [],
       "dbfsResultPath": null,
       "isJsonSchema": true,
       "metadata": {
        "createTempViewForImplicitDf": true,
        "dataframeName": "_sqldf",
        "executionCount": 1
       },
       "overflow": false,
       "plotOptions": {
        "customPlotOptions": {},
        "displayType": "table",
        "pivotAggregation": null,
        "pivotColumns": null,
        "xColumns": null,
        "yColumns": null
       },
       "removedWidgets": [],
       "schema": [
        {
         "metadata": "{}",
         "name": "num_affected_rows",
         "type": "\"long\""
        },
        {
         "metadata": "{}",
         "name": "num_inserted_rows",
         "type": "\"long\""
        }
       ],
       "type": "table"
      }
     },
     "output_type": "display_data"
    }
   ],
   "source": [
    "%sql\n",
    "\n",
    "INSERT INTO Sample.Transactions VALUES \n",
    "( 1, '2011-01-01', 500),\n",
    "( 1, '2011-01-15', 50),\n",
    "( 1, '2011-01-22', 250),\n",
    "( 1, '2011-01-24', 75),\n",
    "( 1, '2011-01-26', 125),\n",
    "( 1, '2011-01-28', 175),\n",
    "( 2, '2011-01-01', 500),\n",
    "( 2, '2011-01-15', 50),\n",
    "( 2, '2011-01-22', 25),\n",
    "( 2, '2011-01-23', 125),\n",
    "( 2, '2011-01-26', 200),\n",
    "( 2, '2011-01-29', 250),\n",
    "( 3, '2011-01-01', 500),\n",
    "( 3, '2011-01-15', 50 ),\n",
    "( 3, '2011-01-22', 5000),\n",
    "( 3, '2011-01-25', 550),\n",
    "( 3, '2011-01-27', 95 ),\n",
    "( 3, '2011-01-30', 2500)\n",
    "\n"
   ]
  },
  {
   "cell_type": "code",
   "execution_count": 0,
   "metadata": {
    "application/vnd.databricks.v1+cell": {
     "cellMetadata": {
      "byteLimit": 2048000,
      "implicitDf": true,
      "rowLimit": 10000
     },
     "inputWidgets": {},
     "nuid": "18e655a8-3cdb-4ce9-ada1-765ddc298100",
     "showTitle": false,
     "tableResultSettingsMap": {},
     "title": ""
    }
   },
   "outputs": [
    {
     "output_type": "display_data",
     "data": {
      "text/html": [
       "<style scoped>\n",
       "  .table-result-container {\n",
       "    max-height: 300px;\n",
       "    overflow: auto;\n",
       "  }\n",
       "  table, th, td {\n",
       "    border: 1px solid black;\n",
       "    border-collapse: collapse;\n",
       "  }\n",
       "  th, td {\n",
       "    padding: 5px;\n",
       "  }\n",
       "  th {\n",
       "    text-align: left;\n",
       "  }\n",
       "</style><div class='table-result-container'><table class='table-result'><thead style='background-color: white'><tr><th>num_affected_rows</th><th>num_inserted_rows</th></tr></thead><tbody><tr><td>14</td><td>14</td></tr></tbody></table></div>"
      ]
     },
     "metadata": {
      "application/vnd.databricks.v1+output": {
       "addedWidgets": {},
       "aggData": [],
       "aggError": "",
       "aggOverflow": false,
       "aggSchema": [],
       "aggSeriesLimitReached": false,
       "aggType": "",
       "arguments": {},
       "columnCustomDisplayInfos": {},
       "data": [
        [
         14,
         14
        ]
       ],
       "datasetInfos": [],
       "dbfsResultPath": null,
       "isJsonSchema": true,
       "metadata": {
        "createTempViewForImplicitDf": true,
        "dataframeName": "_sqldf",
        "executionCount": 2
       },
       "overflow": false,
       "plotOptions": {
        "customPlotOptions": {},
        "displayType": "table",
        "pivotAggregation": null,
        "pivotColumns": null,
        "xColumns": null,
        "yColumns": null
       },
       "removedWidgets": [],
       "schema": [
        {
         "metadata": "{}",
         "name": "num_affected_rows",
         "type": "\"long\""
        },
        {
         "metadata": "{}",
         "name": "num_inserted_rows",
         "type": "\"long\""
        }
       ],
       "type": "table"
      }
     },
     "output_type": "display_data"
    }
   ],
   "source": [
    "%sql\n",
    "INSERT INTO Sample.Logical\n",
    "VALUES (1,'George', 800),\n",
    "(2,'Sam', 950),\n",
    "(3,'Diane', 1100),\n",
    "(4,'Nicholas', 1250),\n",
    "(5,'Samuel', 1250),\n",
    "(6,'Patricia', 1300),\n",
    "(7,'Brian', 1500),\n",
    "(8,'Thomas', 1600),\n",
    "(9,'Fran', 2450),\n",
    "(10,'Debbie', 2850),\n",
    "(11,'Mark', 2975),\n",
    "(12,'James', 3000),\n",
    "(13,'Cynthia', 3000),\n",
    "(14,'Christopher', 5000);"
   ]
  },
  {
   "cell_type": "code",
   "execution_count": 0,
   "metadata": {
    "application/vnd.databricks.v1+cell": {
     "cellMetadata": {
      "byteLimit": 2048000,
      "rowLimit": 10000
     },
     "inputWidgets": {},
     "nuid": "7b89bd89-b032-40ea-8ee5-812413a405a5",
     "showTitle": false,
     "tableResultSettingsMap": {},
     "title": ""
    }
   },
   "outputs": [],
   "source": [
    "from pyspark.sql.functions import *\n",
    "from pyspark.sql.window import Window"
   ]
  },
  {
   "cell_type": "code",
   "execution_count": 0,
   "metadata": {
    "application/vnd.databricks.v1+cell": {
     "cellMetadata": {
      "byteLimit": 2048000,
      "rowLimit": 10000
     },
     "inputWidgets": {},
     "nuid": "6cde32bc-f1f7-4319-b90e-ed692871239b",
     "showTitle": false,
     "tableResultSettingsMap": {},
     "title": ""
    }
   },
   "outputs": [
    {
     "output_type": "display_data",
     "data": {
      "text/html": [
       "<style scoped>\n",
       "  .table-result-container {\n",
       "    max-height: 300px;\n",
       "    overflow: auto;\n",
       "  }\n",
       "  table, th, td {\n",
       "    border: 1px solid black;\n",
       "    border-collapse: collapse;\n",
       "  }\n",
       "  th, td {\n",
       "    padding: 5px;\n",
       "  }\n",
       "  th {\n",
       "    text-align: left;\n",
       "  }\n",
       "</style><div class='table-result-container'><table class='table-result'><thead style='background-color: white'><tr><th>AccountId</th><th>TranDate</th><th>TranAmt</th></tr></thead><tbody><tr><td>1</td><td>2011-01-01</td><td>500.00</td></tr><tr><td>1</td><td>2011-01-15</td><td>50.00</td></tr><tr><td>1</td><td>2011-01-22</td><td>250.00</td></tr><tr><td>1</td><td>2011-01-24</td><td>75.00</td></tr><tr><td>1</td><td>2011-01-26</td><td>125.00</td></tr><tr><td>1</td><td>2011-01-28</td><td>175.00</td></tr><tr><td>2</td><td>2011-01-01</td><td>500.00</td></tr><tr><td>2</td><td>2011-01-15</td><td>50.00</td></tr><tr><td>2</td><td>2011-01-22</td><td>25.00</td></tr><tr><td>2</td><td>2011-01-23</td><td>125.00</td></tr><tr><td>2</td><td>2011-01-26</td><td>200.00</td></tr><tr><td>2</td><td>2011-01-29</td><td>250.00</td></tr><tr><td>3</td><td>2011-01-01</td><td>500.00</td></tr><tr><td>3</td><td>2011-01-15</td><td>50.00</td></tr><tr><td>3</td><td>2011-01-22</td><td>5000.00</td></tr><tr><td>3</td><td>2011-01-25</td><td>550.00</td></tr><tr><td>3</td><td>2011-01-27</td><td>95.00</td></tr><tr><td>3</td><td>2011-01-30</td><td>2500.00</td></tr></tbody></table></div>"
      ]
     },
     "metadata": {
      "application/vnd.databricks.v1+output": {
       "addedWidgets": {},
       "aggData": [],
       "aggError": "",
       "aggOverflow": false,
       "aggSchema": [],
       "aggSeriesLimitReached": false,
       "aggType": "",
       "arguments": {},
       "columnCustomDisplayInfos": {},
       "data": [
        [
         1,
         "2011-01-01",
         "500.00"
        ],
        [
         1,
         "2011-01-15",
         "50.00"
        ],
        [
         1,
         "2011-01-22",
         "250.00"
        ],
        [
         1,
         "2011-01-24",
         "75.00"
        ],
        [
         1,
         "2011-01-26",
         "125.00"
        ],
        [
         1,
         "2011-01-28",
         "175.00"
        ],
        [
         2,
         "2011-01-01",
         "500.00"
        ],
        [
         2,
         "2011-01-15",
         "50.00"
        ],
        [
         2,
         "2011-01-22",
         "25.00"
        ],
        [
         2,
         "2011-01-23",
         "125.00"
        ],
        [
         2,
         "2011-01-26",
         "200.00"
        ],
        [
         2,
         "2011-01-29",
         "250.00"
        ],
        [
         3,
         "2011-01-01",
         "500.00"
        ],
        [
         3,
         "2011-01-15",
         "50.00"
        ],
        [
         3,
         "2011-01-22",
         "5000.00"
        ],
        [
         3,
         "2011-01-25",
         "550.00"
        ],
        [
         3,
         "2011-01-27",
         "95.00"
        ],
        [
         3,
         "2011-01-30",
         "2500.00"
        ]
       ],
       "datasetInfos": [],
       "dbfsResultPath": null,
       "isJsonSchema": true,
       "metadata": {},
       "overflow": false,
       "plotOptions": {
        "customPlotOptions": {},
        "displayType": "table",
        "pivotAggregation": null,
        "pivotColumns": null,
        "xColumns": null,
        "yColumns": null
       },
       "removedWidgets": [],
       "schema": [
        {
         "metadata": "{}",
         "name": "AccountId",
         "type": "\"integer\""
        },
        {
         "metadata": "{}",
         "name": "TranDate",
         "type": "\"date\""
        },
        {
         "metadata": "{}",
         "name": "TranAmt",
         "type": "\"decimal(8,2)\""
        }
       ],
       "type": "table"
      }
     },
     "output_type": "display_data"
    }
   ],
   "source": [
    "df = spark.table(\"Sample.Transactions\")\n",
    "display(df)"
   ]
  },
  {
   "cell_type": "code",
   "execution_count": 0,
   "metadata": {
    "application/vnd.databricks.v1+cell": {
     "cellMetadata": {
      "byteLimit": 2048000,
      "rowLimit": 10000
     },
     "inputWidgets": {},
     "nuid": "8a8bcd65-9245-416e-8e48-a2e0a8ceb246",
     "showTitle": false,
     "tableResultSettingsMap": {},
     "title": ""
    }
   },
   "outputs": [],
   "source": [
    "window_spec = Window.partitionBy(\"AccountId\").orderBy(\"TranDate\")"
   ]
  },
  {
   "cell_type": "code",
   "execution_count": 0,
   "metadata": {
    "application/vnd.databricks.v1+cell": {
     "cellMetadata": {
      "byteLimit": 2048000,
      "rowLimit": 10000
     },
     "inputWidgets": {},
     "nuid": "e89ec748-6d2d-4782-a43d-aaec5531d862",
     "showTitle": false,
     "tableResultSettingsMap": {},
     "title": ""
    }
   },
   "outputs": [
    {
     "output_type": "display_data",
     "data": {
      "text/html": [
       "<style scoped>\n",
       "  .table-result-container {\n",
       "    max-height: 300px;\n",
       "    overflow: auto;\n",
       "  }\n",
       "  table, th, td {\n",
       "    border: 1px solid black;\n",
       "    border-collapse: collapse;\n",
       "  }\n",
       "  th, td {\n",
       "    padding: 5px;\n",
       "  }\n",
       "  th {\n",
       "    text-align: left;\n",
       "  }\n",
       "</style><div class='table-result-container'><table class='table-result'><thead style='background-color: white'><tr><th>AccountId</th><th>TranDate</th><th>TranAmt</th><th>Avg</th><th>Count</th><th>Min</th><th>Max</th><th>Sum</th><th>Lead</th><th>Lag</th><th>First Value</th><th>Last Value</th><th>Row Number</th></tr></thead><tbody><tr><td>1</td><td>2011-01-01</td><td>500.00</td><td>500.000000</td><td>1</td><td>500.00</td><td>500.00</td><td>500.00</td><td>50.00</td><td>null</td><td>500.00</td><td>500.00</td><td>1</td></tr><tr><td>1</td><td>2011-01-15</td><td>50.00</td><td>275.000000</td><td>2</td><td>50.00</td><td>500.00</td><td>550.00</td><td>250.00</td><td>500.00</td><td>500.00</td><td>50.00</td><td>2</td></tr><tr><td>1</td><td>2011-01-22</td><td>250.00</td><td>266.666667</td><td>3</td><td>50.00</td><td>500.00</td><td>800.00</td><td>75.00</td><td>50.00</td><td>500.00</td><td>250.00</td><td>3</td></tr><tr><td>1</td><td>2011-01-24</td><td>75.00</td><td>218.750000</td><td>4</td><td>50.00</td><td>500.00</td><td>875.00</td><td>125.00</td><td>250.00</td><td>500.00</td><td>75.00</td><td>4</td></tr><tr><td>1</td><td>2011-01-26</td><td>125.00</td><td>200.000000</td><td>5</td><td>50.00</td><td>500.00</td><td>1000.00</td><td>175.00</td><td>75.00</td><td>500.00</td><td>125.00</td><td>5</td></tr><tr><td>1</td><td>2011-01-28</td><td>175.00</td><td>195.833333</td><td>6</td><td>50.00</td><td>500.00</td><td>1175.00</td><td>null</td><td>125.00</td><td>500.00</td><td>175.00</td><td>6</td></tr><tr><td>2</td><td>2011-01-01</td><td>500.00</td><td>500.000000</td><td>1</td><td>500.00</td><td>500.00</td><td>500.00</td><td>50.00</td><td>null</td><td>500.00</td><td>500.00</td><td>1</td></tr><tr><td>2</td><td>2011-01-15</td><td>50.00</td><td>275.000000</td><td>2</td><td>50.00</td><td>500.00</td><td>550.00</td><td>25.00</td><td>500.00</td><td>500.00</td><td>50.00</td><td>2</td></tr><tr><td>2</td><td>2011-01-22</td><td>25.00</td><td>191.666667</td><td>3</td><td>25.00</td><td>500.00</td><td>575.00</td><td>125.00</td><td>50.00</td><td>500.00</td><td>25.00</td><td>3</td></tr><tr><td>2</td><td>2011-01-23</td><td>125.00</td><td>175.000000</td><td>4</td><td>25.00</td><td>500.00</td><td>700.00</td><td>200.00</td><td>25.00</td><td>500.00</td><td>125.00</td><td>4</td></tr><tr><td>2</td><td>2011-01-26</td><td>200.00</td><td>180.000000</td><td>5</td><td>25.00</td><td>500.00</td><td>900.00</td><td>250.00</td><td>125.00</td><td>500.00</td><td>200.00</td><td>5</td></tr><tr><td>2</td><td>2011-01-29</td><td>250.00</td><td>191.666667</td><td>6</td><td>25.00</td><td>500.00</td><td>1150.00</td><td>null</td><td>200.00</td><td>500.00</td><td>250.00</td><td>6</td></tr><tr><td>3</td><td>2011-01-01</td><td>500.00</td><td>500.000000</td><td>1</td><td>500.00</td><td>500.00</td><td>500.00</td><td>50.00</td><td>null</td><td>500.00</td><td>500.00</td><td>1</td></tr><tr><td>3</td><td>2011-01-15</td><td>50.00</td><td>275.000000</td><td>2</td><td>50.00</td><td>500.00</td><td>550.00</td><td>5000.00</td><td>500.00</td><td>500.00</td><td>50.00</td><td>2</td></tr><tr><td>3</td><td>2011-01-22</td><td>5000.00</td><td>1850.000000</td><td>3</td><td>50.00</td><td>5000.00</td><td>5550.00</td><td>550.00</td><td>50.00</td><td>500.00</td><td>5000.00</td><td>3</td></tr><tr><td>3</td><td>2011-01-25</td><td>550.00</td><td>1525.000000</td><td>4</td><td>50.00</td><td>5000.00</td><td>6100.00</td><td>95.00</td><td>5000.00</td><td>500.00</td><td>550.00</td><td>4</td></tr><tr><td>3</td><td>2011-01-27</td><td>95.00</td><td>1239.000000</td><td>5</td><td>50.00</td><td>5000.00</td><td>6195.00</td><td>2500.00</td><td>550.00</td><td>500.00</td><td>95.00</td><td>5</td></tr><tr><td>3</td><td>2011-01-30</td><td>2500.00</td><td>1449.166667</td><td>6</td><td>50.00</td><td>5000.00</td><td>8695.00</td><td>null</td><td>95.00</td><td>500.00</td><td>2500.00</td><td>6</td></tr></tbody></table></div>"
      ]
     },
     "metadata": {
      "application/vnd.databricks.v1+output": {
       "addedWidgets": {},
       "aggData": [],
       "aggError": "",
       "aggOverflow": false,
       "aggSchema": [],
       "aggSeriesLimitReached": false,
       "aggType": "",
       "arguments": {},
       "columnCustomDisplayInfos": {},
       "data": [
        [
         1,
         "2011-01-01",
         "500.00",
         "500.000000",
         1,
         "500.00",
         "500.00",
         "500.00",
         "50.00",
         null,
         "500.00",
         "500.00",
         1
        ],
        [
         1,
         "2011-01-15",
         "50.00",
         "275.000000",
         2,
         "50.00",
         "500.00",
         "550.00",
         "250.00",
         "500.00",
         "500.00",
         "50.00",
         2
        ],
        [
         1,
         "2011-01-22",
         "250.00",
         "266.666667",
         3,
         "50.00",
         "500.00",
         "800.00",
         "75.00",
         "50.00",
         "500.00",
         "250.00",
         3
        ],
        [
         1,
         "2011-01-24",
         "75.00",
         "218.750000",
         4,
         "50.00",
         "500.00",
         "875.00",
         "125.00",
         "250.00",
         "500.00",
         "75.00",
         4
        ],
        [
         1,
         "2011-01-26",
         "125.00",
         "200.000000",
         5,
         "50.00",
         "500.00",
         "1000.00",
         "175.00",
         "75.00",
         "500.00",
         "125.00",
         5
        ],
        [
         1,
         "2011-01-28",
         "175.00",
         "195.833333",
         6,
         "50.00",
         "500.00",
         "1175.00",
         null,
         "125.00",
         "500.00",
         "175.00",
         6
        ],
        [
         2,
         "2011-01-01",
         "500.00",
         "500.000000",
         1,
         "500.00",
         "500.00",
         "500.00",
         "50.00",
         null,
         "500.00",
         "500.00",
         1
        ],
        [
         2,
         "2011-01-15",
         "50.00",
         "275.000000",
         2,
         "50.00",
         "500.00",
         "550.00",
         "25.00",
         "500.00",
         "500.00",
         "50.00",
         2
        ],
        [
         2,
         "2011-01-22",
         "25.00",
         "191.666667",
         3,
         "25.00",
         "500.00",
         "575.00",
         "125.00",
         "50.00",
         "500.00",
         "25.00",
         3
        ],
        [
         2,
         "2011-01-23",
         "125.00",
         "175.000000",
         4,
         "25.00",
         "500.00",
         "700.00",
         "200.00",
         "25.00",
         "500.00",
         "125.00",
         4
        ],
        [
         2,
         "2011-01-26",
         "200.00",
         "180.000000",
         5,
         "25.00",
         "500.00",
         "900.00",
         "250.00",
         "125.00",
         "500.00",
         "200.00",
         5
        ],
        [
         2,
         "2011-01-29",
         "250.00",
         "191.666667",
         6,
         "25.00",
         "500.00",
         "1150.00",
         null,
         "200.00",
         "500.00",
         "250.00",
         6
        ],
        [
         3,
         "2011-01-01",
         "500.00",
         "500.000000",
         1,
         "500.00",
         "500.00",
         "500.00",
         "50.00",
         null,
         "500.00",
         "500.00",
         1
        ],
        [
         3,
         "2011-01-15",
         "50.00",
         "275.000000",
         2,
         "50.00",
         "500.00",
         "550.00",
         "5000.00",
         "500.00",
         "500.00",
         "50.00",
         2
        ],
        [
         3,
         "2011-01-22",
         "5000.00",
         "1850.000000",
         3,
         "50.00",
         "5000.00",
         "5550.00",
         "550.00",
         "50.00",
         "500.00",
         "5000.00",
         3
        ],
        [
         3,
         "2011-01-25",
         "550.00",
         "1525.000000",
         4,
         "50.00",
         "5000.00",
         "6100.00",
         "95.00",
         "5000.00",
         "500.00",
         "550.00",
         4
        ],
        [
         3,
         "2011-01-27",
         "95.00",
         "1239.000000",
         5,
         "50.00",
         "5000.00",
         "6195.00",
         "2500.00",
         "550.00",
         "500.00",
         "95.00",
         5
        ],
        [
         3,
         "2011-01-30",
         "2500.00",
         "1449.166667",
         6,
         "50.00",
         "5000.00",
         "8695.00",
         null,
         "95.00",
         "500.00",
         "2500.00",
         6
        ]
       ],
       "datasetInfos": [],
       "dbfsResultPath": null,
       "isJsonSchema": true,
       "metadata": {},
       "overflow": false,
       "plotOptions": {
        "customPlotOptions": {},
        "displayType": "table",
        "pivotAggregation": null,
        "pivotColumns": null,
        "xColumns": null,
        "yColumns": null
       },
       "removedWidgets": [],
       "schema": [
        {
         "metadata": "{}",
         "name": "AccountId",
         "type": "\"integer\""
        },
        {
         "metadata": "{}",
         "name": "TranDate",
         "type": "\"date\""
        },
        {
         "metadata": "{}",
         "name": "TranAmt",
         "type": "\"decimal(8,2)\""
        },
        {
         "metadata": "{}",
         "name": "Avg",
         "type": "\"decimal(12,6)\""
        },
        {
         "metadata": "{}",
         "name": "Count",
         "type": "\"long\""
        },
        {
         "metadata": "{}",
         "name": "Min",
         "type": "\"decimal(8,2)\""
        },
        {
         "metadata": "{}",
         "name": "Max",
         "type": "\"decimal(8,2)\""
        },
        {
         "metadata": "{}",
         "name": "Sum",
         "type": "\"decimal(18,2)\""
        },
        {
         "metadata": "{}",
         "name": "Lead",
         "type": "\"decimal(8,2)\""
        },
        {
         "metadata": "{}",
         "name": "Lag",
         "type": "\"decimal(8,2)\""
        },
        {
         "metadata": "{}",
         "name": "First Value",
         "type": "\"decimal(8,2)\""
        },
        {
         "metadata": "{}",
         "name": "Last Value",
         "type": "\"decimal(8,2)\""
        },
        {
         "metadata": "{}",
         "name": "Row Number",
         "type": "\"integer\""
        }
       ],
       "type": "table"
      }
     },
     "output_type": "display_data"
    }
   ],
   "source": [
    "df_window = df.withColumn(\n",
    "    \"Avg\", avg(\"TranAmt\").over(window_spec)\n",
    ").withColumn(\n",
    "    \"Count\", count(\"*\").over(window_spec)\n",
    ").withColumn(\n",
    "    \"Min\", min(\"TranAmt\").over(window_spec)\n",
    ").withColumn(\n",
    "    \"Max\", max(\"TranAmt\").over(window_spec)\n",
    ").withColumn(\n",
    "    \"Sum\", sum(\"TranAmt\").over(window_spec)\n",
    ").withColumn(\n",
    "    \"Lead\", lead(\"TranAmt\").over(window_spec)\n",
    ").withColumn(\n",
    "    \"Lag\", lag(\"TranAmt\").over(window_spec)\n",
    ").withColumn(\n",
    "    \"First Value\", first_value(\"TranAmt\").over(window_spec)\n",
    ").withColumn(\n",
    "    \"Last Value\", last_value(\"TranAmt\").over(window_spec)\n",
    ").withColumn(\n",
    "    \"Row Number\", row_number().over(window_spec)\n",
    ")\n",
    "\n",
    "df_window = df_window.orderBy(\"AccountId\", \"TranDate\")\n",
    "\n",
    "display(df_window)"
   ]
  },
  {
   "cell_type": "code",
   "execution_count": 0,
   "metadata": {
    "application/vnd.databricks.v1+cell": {
     "cellMetadata": {},
     "inputWidgets": {},
     "nuid": "68ed7953-e6c1-4ef7-9d96-cad9d4b79868",
     "showTitle": false,
     "tableResultSettingsMap": {},
     "title": ""
    }
   },
   "outputs": [],
   "source": [
    "\n"
   ]
  }
 ],
 "metadata": {
  "application/vnd.databricks.v1+notebook": {
   "computePreferences": null,
   "dashboards": [],
   "environmentMetadata": {
    "base_environment": "",
    "environment_version": "1"
   },
   "inputWidgetPreferences": null,
   "language": "python",
   "notebookMetadata": {
    "mostRecentlyExecutedCommandWithImplicitDF": {
     "commandId": 1191784134108579,
     "dataframes": [
      "_sqldf"
     ]
    },
    "pythonIndentUnit": 4
   },
   "notebookName": "cw4_sql",
   "widgets": {}
  }
 },
 "nbformat": 4,
 "nbformat_minor": 0
}